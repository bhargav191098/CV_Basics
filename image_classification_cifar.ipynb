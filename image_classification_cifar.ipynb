{
  "nbformat": 4,
  "nbformat_minor": 0,
  "metadata": {
    "colab": {
      "provenance": [],
      "gpuType": "T4",
      "authorship_tag": "ABX9TyOlKeXc6YkuNNGJvRcUTVvi",
      "include_colab_link": true
    },
    "kernelspec": {
      "name": "python3",
      "display_name": "Python 3"
    },
    "language_info": {
      "name": "python"
    },
    "accelerator": "GPU"
  },
  "cells": [
    {
      "cell_type": "markdown",
      "metadata": {
        "id": "view-in-github",
        "colab_type": "text"
      },
      "source": [
        "<a href=\"https://colab.research.google.com/github/bhargav191098/CV_Basics/blob/main/image_classification_cifar.ipynb\" target=\"_parent\"><img src=\"https://colab.research.google.com/assets/colab-badge.svg\" alt=\"Open In Colab\"/></a>"
      ]
    },
    {
      "cell_type": "code",
      "execution_count": null,
      "metadata": {
        "id": "CXI-PrRwefWP"
      },
      "outputs": [],
      "source": [
        "import torch\n",
        "import torchvision\n",
        "import torchvision.transforms as transforms\n",
        "#Last import can be used to transform dataset images on the go - normalize,convert to tensor."
      ]
    },
    {
      "cell_type": "code",
      "source": [
        "transform = transforms.Compose([transforms.ToTensor(),transforms.Normalize((0.5,0.5,0.5),(0.5,0.5,0.5))])\n",
        "\n",
        "\n",
        "batch_sizes = 4\n",
        "\n",
        "trainset = torchvision.datasets.CIFAR10(root='./data',train=True,transform=transform,download=True)\n",
        "testset = torchvision.datasets.CIFAR10(root='./data',train=False,transform=transform,download=True)\n",
        "\n",
        "train_loader = torch.utils.data.DataLoader(trainset,batch_size = batch_sizes,num_workers = 3,shuffle=True)\n",
        "test_loader = torch.utils.data.DataLoader(testset,batch_size = batch_sizes,num_workers=3,shuffle=True)\n",
        "\n",
        "classes = ('plane','car','bird','cat','deer','dog','frog','horse','ship','truck')\n",
        "\n"
      ],
      "metadata": {
        "colab": {
          "base_uri": "https://localhost:8080/"
        },
        "id": "SwlNaid2fSoZ",
        "outputId": "48fada38-cd24-4147-80da-2c592d993d75"
      },
      "execution_count": null,
      "outputs": [
        {
          "output_type": "stream",
          "name": "stdout",
          "text": [
            "Downloading https://www.cs.toronto.edu/~kriz/cifar-10-python.tar.gz to ./data/cifar-10-python.tar.gz\n"
          ]
        },
        {
          "output_type": "stream",
          "name": "stderr",
          "text": [
            "100%|██████████| 170498071/170498071 [00:01<00:00, 106408067.97it/s]\n"
          ]
        },
        {
          "output_type": "stream",
          "name": "stdout",
          "text": [
            "Extracting ./data/cifar-10-python.tar.gz to ./data\n",
            "Files already downloaded and verified\n"
          ]
        },
        {
          "output_type": "stream",
          "name": "stderr",
          "text": [
            "/usr/local/lib/python3.10/dist-packages/torch/utils/data/dataloader.py:560: UserWarning: This DataLoader will create 3 worker processes in total. Our suggested max number of worker in current system is 2, which is smaller than what this DataLoader is going to create. Please be aware that excessive worker creation might get DataLoader running slow or even freeze, lower the worker number to avoid potential slowness/freeze if necessary.\n",
            "  warnings.warn(_create_warning_msg(\n"
          ]
        }
      ]
    },
    {
      "cell_type": "code",
      "source": [
        "import matplotlib.pyplot as plt\n",
        "import numpy as np\n",
        "\n",
        "def imshow(img):\n",
        "  img = img/2 + 0.5\n",
        "  npimg = img.numpy()\n",
        "\n",
        "  plt.imshow(np.transpose(npimg,(1,2,0)))\n",
        "  plt.show()\n",
        "\n",
        "\n",
        "dataiter = iter(train_loader)\n",
        "img,label = next(dataiter)\n",
        "\n",
        "imshow(torchvision.utils.make_grid(img))\n",
        "\n",
        "print(' '.join(f'{classes[label[j]]:5s}' for j in range(batch_sizes)))\n",
        "\n"
      ],
      "metadata": {
        "colab": {
          "base_uri": "https://localhost:8080/",
          "height": 210
        },
        "id": "yoB45ek4hXiL",
        "outputId": "0e9d16b4-ff99-433b-cd96-08d92f4422e9"
      },
      "execution_count": null,
      "outputs": [
        {
          "output_type": "display_data",
          "data": {
            "text/plain": [
              "<Figure size 640x480 with 1 Axes>"
            ],
            "image/png": "[encoded data removed]"
          },
          "metadata": {}
        },
        {
          "output_type": "stream",
          "name": "stdout",
          "text": [
            "bird  frog  deer  frog \n"
          ]
        }
      ]
    },
    {
      "cell_type": "code",
      "source": [
        "import torch.nn as nn\n",
        "import torch.nn.functional as F\n",
        "\n",
        "class Net(nn.Module):\n",
        "  def __init__(self, *args, **kwargs) -> None:\n",
        "    super().__init__(*args, **kwargs)\n",
        "    self.conv1 = nn.Conv2d(3,6,5)\n",
        "    self.pool = nn.MaxPool2d(2,2) #Doesnt affect the channel.\n",
        "    self.conv2 = nn.Conv2d(6,16,5)\n",
        "    self.fc1 = nn.Linear(16*5*5,120)\n",
        "    self.fc2 = nn.Linear(120,84)\n",
        "    self.fc3 = nn.Linear(84,10)\n",
        "\n",
        "\n",
        "  def forward(self,x):\n",
        "    x = self.pool(F.relu(self.conv1(x)))\n",
        "    x = self.pool(F.relu(self.conv2(x)))\n",
        "\n",
        "    x = torch.flatten(x,1)\n",
        "    x = F.relu(self.fc1(x))\n",
        "    x = F.relu(self.fc2(x))\n",
        "\n",
        "    x = self.fc3(x)\n",
        "    return x\n",
        "\n",
        "net = Net()"
      ],
      "metadata": {
        "id": "i1E7AEAUiUiq"
      },
      "execution_count": null,
      "outputs": []
    },
    {
      "cell_type": "code",
      "source": [
        "import torch.optim as optim\n",
        "\n",
        "criterion = nn.CrossEntropyLoss()\n",
        "optimizer = optim.SGD(net.parameters(),lr=0.001,momentum=0.9)"
      ],
      "metadata": {
        "id": "Fk1s5NchqDqJ"
      },
      "execution_count": null,
      "outputs": []
    },
    {
      "cell_type": "code",
      "source": [
        "from torch.utils.data import dataloader\n",
        "num_epochs = 20\n",
        "device = torch.device('cuda:0' if torch.cuda.is_available else 'cpu')\n",
        "for epoch in range(num_epochs):\n",
        "  total_loss = 0.0\n",
        "  num_item = 0\n",
        "  for data in train_loader:\n",
        "    input,labels = data\n",
        "    optimizer.zero_grad()\n",
        "\n",
        "    outputs = net(input)\n",
        "    loss = criterion(outputs,labels)\n",
        "    loss.backward()\n",
        "    optimizer.step()\n",
        "    num_item += batch_sizes\n",
        "    total_loss += loss.item()\n",
        "\n",
        "  if(epoch%10==0):\n",
        "    print(\"average loss : \",total_loss/num_item)\n",
        "print('Training done')"
      ],
      "metadata": {
        "colab": {
          "base_uri": "https://localhost:8080/"
        },
        "id": "fCBKW5PXsSer",
        "outputId": "cf6eead2-9d45-4e56-b2c0-0a1378166534"
      },
      "execution_count": null,
      "outputs": [
        {
          "output_type": "stream",
          "name": "stdout",
          "text": [
            "average loss :  0.31018818373031914\n",
            "average loss :  0.1878993231306941\n",
            "Training done\n"
          ]
        }
      ]
    }
  ]
}